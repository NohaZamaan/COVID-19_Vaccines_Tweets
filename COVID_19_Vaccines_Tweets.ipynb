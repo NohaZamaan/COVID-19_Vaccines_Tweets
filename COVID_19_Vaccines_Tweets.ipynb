{
  "nbformat": 4,
  "nbformat_minor": 0,
  "metadata": {
    "interpreter": {
      "hash": "430da8c8ffd01e1807dad81ebd421ee85c0d18a630f6ee3d73295c31524e188c"
    },
    "kernelspec": {
      "display_name": "Python 3.9.7 64-bit ('t5_camp': conda)",
      "name": "python3"
    },
    "language_info": {
      "codemirror_mode": {
        "name": "ipython",
        "version": 3
      },
      "file_extension": ".py",
      "mimetype": "text/x-python",
      "name": "python",
      "nbconvert_exporter": "python",
      "pygments_lexer": "ipython3",
      "version": "3.9.7"
    },
    "orig_nbformat": 4,
    "colab": {
      "name": "COVID-19_Vaccines_Tweets.ipynb",
      "provenance": [],
      "collapsed_sections": []
    },
    "accelerator": "GPU"
  },
  "cells": [
    {
      "cell_type": "code",
      "metadata": {
        "id": "82YwbUqrj21U"
      },
      "source": [
        "# import library, pandas to read the dataset, matplotlib to visualize data, and re to clean the text \n",
        "import pandas as pd\n",
        "import matplotlib.pyplot as plt\n",
        "import re\n",
        "import nltk\n",
        "from nltk.corpus import stopwords\n",
        "from nltk.stem import WordNetLemmatizer"
      ],
      "execution_count": 20,
      "outputs": []
    },
    {
      "cell_type": "markdown",
      "metadata": {
        "id": "2kEA7U84j21X"
      },
      "source": [
        "# Collect and Explore The Data"
      ]
    },
    {
      "cell_type": "code",
      "metadata": {
        "id": "5qddMno0j21a"
      },
      "source": [
        "# read data stored in path 'root/Data/' using pd.read_csv, then store the data in df dataframe\n",
        "df = pd.read_csv('Data/vaccination_all_tweets.csv')"
      ],
      "execution_count": 4,
      "outputs": []
    },
    {
      "cell_type": "code",
      "metadata": {
        "colab": {
          "base_uri": "https://localhost:8080/",
          "height": 513
        },
        "id": "z1SnQtFyj21b",
        "outputId": "fb0a40a0-11dc-4f89-be81-59ca5ddf2c8f"
      },
      "source": [
        "#show first five dataframe content \n",
        "df.head()"
      ],
      "execution_count": 5,
      "outputs": [
        {
          "output_type": "execute_result",
          "data": {
            "text/html": [
              "<div>\n",
              "<style scoped>\n",
              "    .dataframe tbody tr th:only-of-type {\n",
              "        vertical-align: middle;\n",
              "    }\n",
              "\n",
              "    .dataframe tbody tr th {\n",
              "        vertical-align: top;\n",
              "    }\n",
              "\n",
              "    .dataframe thead th {\n",
              "        text-align: right;\n",
              "    }\n",
              "</style>\n",
              "<table border=\"1\" class=\"dataframe\">\n",
              "  <thead>\n",
              "    <tr style=\"text-align: right;\">\n",
              "      <th></th>\n",
              "      <th>id</th>\n",
              "      <th>user_name</th>\n",
              "      <th>user_location</th>\n",
              "      <th>user_description</th>\n",
              "      <th>user_created</th>\n",
              "      <th>user_followers</th>\n",
              "      <th>user_friends</th>\n",
              "      <th>user_favourites</th>\n",
              "      <th>user_verified</th>\n",
              "      <th>date</th>\n",
              "      <th>text</th>\n",
              "      <th>hashtags</th>\n",
              "      <th>source</th>\n",
              "      <th>retweets</th>\n",
              "      <th>favorites</th>\n",
              "      <th>is_retweet</th>\n",
              "    </tr>\n",
              "  </thead>\n",
              "  <tbody>\n",
              "    <tr>\n",
              "      <th>0</th>\n",
              "      <td>1340539111971516416</td>\n",
              "      <td>Rachel Roh</td>\n",
              "      <td>La Crescenta-Montrose, CA</td>\n",
              "      <td>Aggregator of Asian American news; scanning di...</td>\n",
              "      <td>2009-04-08 17:52:46</td>\n",
              "      <td>405</td>\n",
              "      <td>1692</td>\n",
              "      <td>3247</td>\n",
              "      <td>False</td>\n",
              "      <td>2020-12-20 06:06:44</td>\n",
              "      <td>Same folks said daikon paste could treat a cyt...</td>\n",
              "      <td>['PfizerBioNTech']</td>\n",
              "      <td>Twitter for Android</td>\n",
              "      <td>0</td>\n",
              "      <td>0</td>\n",
              "      <td>False</td>\n",
              "    </tr>\n",
              "    <tr>\n",
              "      <th>1</th>\n",
              "      <td>1338158543359250433</td>\n",
              "      <td>Albert Fong</td>\n",
              "      <td>San Francisco, CA</td>\n",
              "      <td>Marketing dude, tech geek, heavy metal &amp; '80s ...</td>\n",
              "      <td>2009-09-21 15:27:30</td>\n",
              "      <td>834</td>\n",
              "      <td>666</td>\n",
              "      <td>178</td>\n",
              "      <td>False</td>\n",
              "      <td>2020-12-13 16:27:13</td>\n",
              "      <td>While the world has been on the wrong side of ...</td>\n",
              "      <td>NaN</td>\n",
              "      <td>Twitter Web App</td>\n",
              "      <td>1</td>\n",
              "      <td>1</td>\n",
              "      <td>False</td>\n",
              "    </tr>\n",
              "    <tr>\n",
              "      <th>2</th>\n",
              "      <td>1337858199140118533</td>\n",
              "      <td>eli🇱🇹🇪🇺👌</td>\n",
              "      <td>Your Bed</td>\n",
              "      <td>heil, hydra 🖐☺</td>\n",
              "      <td>2020-06-25 23:30:28</td>\n",
              "      <td>10</td>\n",
              "      <td>88</td>\n",
              "      <td>155</td>\n",
              "      <td>False</td>\n",
              "      <td>2020-12-12 20:33:45</td>\n",
              "      <td>#coronavirus #SputnikV #AstraZeneca #PfizerBio...</td>\n",
              "      <td>['coronavirus', 'SputnikV', 'AstraZeneca', 'Pf...</td>\n",
              "      <td>Twitter for Android</td>\n",
              "      <td>0</td>\n",
              "      <td>0</td>\n",
              "      <td>False</td>\n",
              "    </tr>\n",
              "    <tr>\n",
              "      <th>3</th>\n",
              "      <td>1337855739918835717</td>\n",
              "      <td>Charles Adler</td>\n",
              "      <td>Vancouver, BC - Canada</td>\n",
              "      <td>Hosting \"CharlesAdlerTonight\" Global News Radi...</td>\n",
              "      <td>2008-09-10 11:28:53</td>\n",
              "      <td>49165</td>\n",
              "      <td>3933</td>\n",
              "      <td>21853</td>\n",
              "      <td>True</td>\n",
              "      <td>2020-12-12 20:23:59</td>\n",
              "      <td>Facts are immutable, Senator, even when you're...</td>\n",
              "      <td>NaN</td>\n",
              "      <td>Twitter Web App</td>\n",
              "      <td>446</td>\n",
              "      <td>2129</td>\n",
              "      <td>False</td>\n",
              "    </tr>\n",
              "    <tr>\n",
              "      <th>4</th>\n",
              "      <td>1337854064604966912</td>\n",
              "      <td>Citizen News Channel</td>\n",
              "      <td>NaN</td>\n",
              "      <td>Citizen News Channel bringing you an alternati...</td>\n",
              "      <td>2020-04-23 17:58:42</td>\n",
              "      <td>152</td>\n",
              "      <td>580</td>\n",
              "      <td>1473</td>\n",
              "      <td>False</td>\n",
              "      <td>2020-12-12 20:17:19</td>\n",
              "      <td>Explain to me again why we need a vaccine @Bor...</td>\n",
              "      <td>['whereareallthesickpeople', 'PfizerBioNTech']</td>\n",
              "      <td>Twitter for iPhone</td>\n",
              "      <td>0</td>\n",
              "      <td>0</td>\n",
              "      <td>False</td>\n",
              "    </tr>\n",
              "  </tbody>\n",
              "</table>\n",
              "</div>"
            ],
            "text/plain": [
              "                    id             user_name  ... favorites is_retweet\n",
              "0  1340539111971516416            Rachel Roh  ...         0      False\n",
              "1  1338158543359250433           Albert Fong  ...         1      False\n",
              "2  1337858199140118533              eli🇱🇹🇪🇺👌  ...         0      False\n",
              "3  1337855739918835717         Charles Adler  ...      2129      False\n",
              "4  1337854064604966912  Citizen News Channel  ...         0      False\n",
              "\n",
              "[5 rows x 16 columns]"
            ]
          },
          "metadata": {},
          "execution_count": 5
        }
      ]
    },
    {
      "cell_type": "code",
      "metadata": {
        "colab": {
          "base_uri": "https://localhost:8080/"
        },
        "id": "sBafgDRyj21e",
        "outputId": "edd73c50-2cd4-41a4-fc3a-f1f6c2484f47"
      },
      "source": [
        "# explore the data type at each series\n",
        "df.info()"
      ],
      "execution_count": 6,
      "outputs": [
        {
          "output_type": "stream",
          "name": "stdout",
          "text": [
            "<class 'pandas.core.frame.DataFrame'>\n",
            "RangeIndex: 193272 entries, 0 to 193271\n",
            "Data columns (total 16 columns):\n",
            " #   Column            Non-Null Count   Dtype \n",
            "---  ------            --------------   ----- \n",
            " 0   id                193272 non-null  int64 \n",
            " 1   user_name         193271 non-null  object\n",
            " 2   user_location     134699 non-null  object\n",
            " 3   user_description  179542 non-null  object\n",
            " 4   user_created      193272 non-null  object\n",
            " 5   user_followers    193272 non-null  int64 \n",
            " 6   user_friends      193272 non-null  int64 \n",
            " 7   user_favourites   193272 non-null  int64 \n",
            " 8   user_verified     193272 non-null  bool  \n",
            " 9   date              193272 non-null  object\n",
            " 10  text              193272 non-null  object\n",
            " 11  hashtags          152299 non-null  object\n",
            " 12  source            193153 non-null  object\n",
            " 13  retweets          193272 non-null  int64 \n",
            " 14  favorites         193272 non-null  int64 \n",
            " 15  is_retweet        193272 non-null  bool  \n",
            "dtypes: bool(2), int64(6), object(8)\n",
            "memory usage: 21.0+ MB\n"
          ]
        }
      ]
    },
    {
      "cell_type": "markdown",
      "metadata": {
        "id": "0f7xxv3tj21f"
      },
      "source": [
        "the output of the cell above shows that all most features have object types except the following:\n",
        "\n",
        "- ``id`` which is int refers to the unique number for each row (key of this row). \n",
        "\n",
        "- ```user_followers``` also has int type, it contains the number of followers of the user that tweeted the tweet. \n",
        "\n",
        "- ```user_friends``` This value refers to how many people this user has followed. \n",
        "\n",
        "- ```user_favourites``` it also has int type, where it refer to user favourites not the favourites of this tweet. \n",
        "\n",
        "- In ```user_verified``` there is a bool type, which contains a true flag if the account was verified. \n",
        "\n",
        "- ```retweets``` and ```favorites``` these numbers indicate how many people have retweeted or favorited this tweet. \n",
        "\n",
        "- ```is_retweet``` boolean flag indicates if the user tweeted the tweet by them self's or retweeted it.\n",
        "\n",
        "the other features that have object type such as: \n",
        "\n",
        "- ```user_name``` contains a string, indicates the user name in Twitter. It is possible to duplicate this value since one user may tweet many tweets.  \n",
        "\n",
        "- ```user_location``` this feature indicates the user location at the time of the Tweet. This feature is possible to be null, where the user didn't share the location information. \n",
        "\n",
        "- ```user_description``` user-defined UTF-8 string describing their account. It could be null. \n",
        "\n",
        "- ```user_created``` contains the date of created this account. \n",
        "\n",
        "- ```date``` the tweet's date and time. \n",
        "\n",
        "- ```text``` this is one of the most important features, containing the tweet text. \n",
        "\n",
        "- ```hashtags``` written with a # symbol—is used to index keywords or topics on Twitter. This feature could be null. \n",
        "\n",
        "- ```source```  the Tweet source label provides information about how the Tweet was posted."
      ]
    },
    {
      "cell_type": "code",
      "metadata": {
        "colab": {
          "base_uri": "https://localhost:8080/"
        },
        "id": "k3P-YEtnj21g",
        "outputId": "7f6f63c1-f7ed-4b14-a64a-2f4f9d7e3364"
      },
      "source": [
        "# check to null values \n",
        "df.isna().sum()"
      ],
      "execution_count": 7,
      "outputs": [
        {
          "output_type": "execute_result",
          "data": {
            "text/plain": [
              "id                      0\n",
              "user_name               1\n",
              "user_location       58573\n",
              "user_description    13730\n",
              "user_created            0\n",
              "user_followers          0\n",
              "user_friends            0\n",
              "user_favourites         0\n",
              "user_verified           0\n",
              "date                    0\n",
              "text                    0\n",
              "hashtags            40973\n",
              "source                119\n",
              "retweets                0\n",
              "favorites               0\n",
              "is_retweet              0\n",
              "dtype: int64"
            ]
          },
          "metadata": {},
          "execution_count": 7
        }
      ]
    },
    {
      "cell_type": "markdown",
      "metadata": {
        "id": "NFvwAuP0j21h"
      },
      "source": [
        "The output above shows null values for ```user_description, hashtags``` and ```source``` all of this is not significant nor appropriate for analysis.\n",
        "\n",
        "The ```user_location``` may be used in analysis... "
      ]
    },
    {
      "cell_type": "code",
      "metadata": {
        "id": "CVa-zjRUj21i"
      },
      "source": [
        "# the user_location contains detailed information, for that, I just take the country name \n",
        "df['country_name']=df['user_location'].str.split(',').str[-1]"
      ],
      "execution_count": 8,
      "outputs": []
    },
    {
      "cell_type": "code",
      "metadata": {
        "colab": {
          "base_uri": "https://localhost:8080/"
        },
        "id": "tE3cpaRlj21j",
        "outputId": "d1d3340a-2dbe-4945-aab2-a89023853631"
      },
      "source": [
        "# check on columns \n",
        "df.columns"
      ],
      "execution_count": 9,
      "outputs": [
        {
          "output_type": "execute_result",
          "data": {
            "text/plain": [
              "Index(['id', 'user_name', 'user_location', 'user_description', 'user_created',\n",
              "       'user_followers', 'user_friends', 'user_favourites', 'user_verified',\n",
              "       'date', 'text', 'hashtags', 'source', 'retweets', 'favorites',\n",
              "       'is_retweet', 'country_name'],\n",
              "      dtype='object')"
            ]
          },
          "metadata": {},
          "execution_count": 9
        }
      ]
    },
    {
      "cell_type": "code",
      "metadata": {
        "id": "YnWHkFDej21k"
      },
      "source": [
        "# convert the date into datetime object \n",
        "df['date'] = pd.to_datetime(df['date']).dt.date"
      ],
      "execution_count": 10,
      "outputs": []
    },
    {
      "cell_type": "code",
      "metadata": {
        "colab": {
          "base_uri": "https://localhost:8080/"
        },
        "id": "12STGmyuj21l",
        "outputId": "e57521ae-4f78-473f-8ef4-8e81561c8a5f"
      },
      "source": [
        "# counting the unique values of hashtags\n",
        "df['hashtags'].value_counts()"
      ],
      "execution_count": 11,
      "outputs": [
        {
          "output_type": "execute_result",
          "data": {
            "text/plain": [
              "['COVAXIN', 'BBMP']                                   11113\n",
              "['Moderna']                                            8995\n",
              "['COVAXIN']                                            8746\n",
              "['Covaxin']                                            7033\n",
              "['SputnikV']                                           5106\n",
              "                                                      ...  \n",
              "['Lutyens', 'BharatBiotech', 'COVAXIN', 'loafers']        1\n",
              "['Moderna', 'Covid', 'France']                            1\n",
              "['Chinese', 'vaccines', 'Sinopharm']                      1\n",
              "['CoronaVirusUpdate']                                     1\n",
              "['Seychelles', 'COVID19']                                 1\n",
              "Name: hashtags, Length: 52470, dtype: int64"
            ]
          },
          "metadata": {},
          "execution_count": 11
        }
      ]
    },
    {
      "cell_type": "code",
      "metadata": {
        "colab": {
          "base_uri": "https://localhost:8080/"
        },
        "id": "9W16RiVxj21m",
        "outputId": "d4fa4623-c692-499b-8658-1a16c3027064"
      },
      "source": [
        "# check how many users that verified them account\n",
        "df['user_verified'].value_counts()"
      ],
      "execution_count": 12,
      "outputs": [
        {
          "output_type": "execute_result",
          "data": {
            "text/plain": [
              "False    176937\n",
              "True      16335\n",
              "Name: user_verified, dtype: int64"
            ]
          },
          "metadata": {},
          "execution_count": 12
        }
      ]
    },
    {
      "cell_type": "code",
      "metadata": {
        "colab": {
          "base_uri": "https://localhost:8080/"
        },
        "id": "adoQESHPj21n",
        "outputId": "a1aaca05-cff6-4b96-fc57-4886f0b4794d"
      },
      "source": [
        "df['user_verified'].mean()*100"
      ],
      "execution_count": 13,
      "outputs": [
        {
          "output_type": "execute_result",
          "data": {
            "text/plain": [
              "8.45181919781448"
            ]
          },
          "metadata": {},
          "execution_count": 13
        }
      ]
    },
    {
      "cell_type": "markdown",
      "metadata": {
        "id": "4HNSkHqyj21n"
      },
      "source": [
        "Only 8.45% of accounts have been verified, as shown above."
      ]
    },
    {
      "cell_type": "code",
      "metadata": {
        "colab": {
          "base_uri": "https://localhost:8080/",
          "height": 733
        },
        "id": "Klaw2fDlj21o",
        "outputId": "409bfd43-7e33-498b-e60a-edeeab649bfa"
      },
      "source": [
        "plt.figure(figsize=(15,10))\n",
        "df['country_name'].value_counts().nlargest(20).plot(kind='bar')\n",
        "plt.xticks(rotation=90)\n",
        "plt.title('Country of tweets')\n",
        "plt.xlabel('contry')\n",
        "plt.ylabel('number of tweets');"
      ],
      "execution_count": 14,
      "outputs": [
        {
          "output_type": "display_data",
          "data": {
            "image/png": "[encoded data removed]",
            "text/plain": [
              "<Figure size 1080x720 with 1 Axes>"
            ]
          },
          "metadata": {
            "needs_background": "light"
          }
        }
      ]
    },
    {
      "cell_type": "markdown",
      "metadata": {
        "id": "HjfAoHgIj21p"
      },
      "source": [
        "The figure of Country of tweets illustrates all most the collected tweets were from India "
      ]
    },
    {
      "cell_type": "code",
      "metadata": {
        "colab": {
          "base_uri": "https://localhost:8080/",
          "height": 875
        },
        "id": "8URBNeoXj21p",
        "outputId": "6a9cdd5b-84c8-44b3-d55b-a4ac11d8d0a3"
      },
      "source": [
        "#Visualizing Tweet Platform-wise Distribution \n",
        "plt.figure(figsize=(15,10))\n",
        "df['hashtags'].value_counts().nlargest(12).plot(kind='bar')\n",
        "plt.xticks(rotation=90)\n",
        "plt.title('The Hashtags that used in tweets')\n",
        "plt.xlabel('Hashtages')\n",
        "plt.ylabel('tweets');\n"
      ],
      "execution_count": 15,
      "outputs": [
        {
          "output_type": "display_data",
          "data": {
            "image/png": "[encoded data removed]",
            "text/plain": [
              "<Figure size 1080x720 with 1 Axes>"
            ]
          },
          "metadata": {
            "needs_background": "light"
          }
        }
      ]
    },
    {
      "cell_type": "code",
      "metadata": {
        "id": "JPLCYyU-j21q"
      },
      "source": [
        "lemmatizer = WordNetLemmatizer()\n",
        "def clean_data(text):\n",
        "    text = re.sub(r'@\\w+', '', text) # remove mintions \n",
        "    text = re.sub(r'#', '', text) # remove hashtages \n",
        "    text = re.sub(r'RT[\\s]+', '', text) # remove RT notaitions \n",
        "    text = re.sub(r'https?:\\/\\/\\S+', '', text) # remove URLs\n",
        "    text = text.encode('ascii', 'ignore').decode('ascii') # remove emoji\n",
        "    text = text.lower() #convert the text to lower case \n",
        "    text = text.split() #splitting the text \n",
        "    text = [word for word in text if word not in stopwords.words('english')] # remove stop words \n",
        "    text = [lemmatizer.lemmatize(word) for word in text] \n",
        "    text = ' '.join(text)\n",
        "    return text"
      ],
      "execution_count": 16,
      "outputs": []
    },
    {
      "cell_type": "code",
      "metadata": {
        "colab": {
          "base_uri": "https://localhost:8080/"
        },
        "id": "wQ5Hr0THovHK",
        "outputId": "063f6f57-8755-4b77-bcae-82e8290f22c6"
      },
      "source": [
        "nltk.download('stopwords')"
      ],
      "execution_count": 21,
      "outputs": [
        {
          "output_type": "stream",
          "name": "stdout",
          "text": [
            "[nltk_data] Downloading package stopwords to /root/nltk_data...\n",
            "[nltk_data]   Unzipping corpora/stopwords.zip.\n"
          ]
        },
        {
          "output_type": "execute_result",
          "data": {
            "text/plain": [
              "True"
            ]
          },
          "metadata": {},
          "execution_count": 21
        }
      ]
    },
    {
      "cell_type": "code",
      "metadata": {
        "colab": {
          "base_uri": "https://localhost:8080/"
        },
        "id": "YZiuQZZfpAO4",
        "outputId": "bf041134-bd55-4a19-a4e6-3d1fa480424b"
      },
      "source": [
        "nltk.download('wordnet')"
      ],
      "execution_count": 23,
      "outputs": [
        {
          "output_type": "stream",
          "name": "stdout",
          "text": [
            "[nltk_data] Downloading package wordnet to /root/nltk_data...\n",
            "[nltk_data]   Unzipping corpora/wordnet.zip.\n"
          ]
        },
        {
          "output_type": "execute_result",
          "data": {
            "text/plain": [
              "True"
            ]
          },
          "metadata": {},
          "execution_count": 23
        }
      ]
    },
    {
      "cell_type": "code",
      "metadata": {
        "colab": {
          "base_uri": "https://localhost:8080/",
          "height": 513
        },
        "id": "i2hxP5ZUj21x",
        "outputId": "e385ba36-bbd6-4e9f-9d0f-473f690ea96a"
      },
      "source": [
        "# Clean the text of tweet \n",
        "df['clean_text'] = df['text'].apply(clean_data)\n",
        "df.head()"
      ],
      "execution_count": 24,
      "outputs": [
        {
          "output_type": "execute_result",
          "data": {
            "text/html": [
              "<div>\n",
              "<style scoped>\n",
              "    .dataframe tbody tr th:only-of-type {\n",
              "        vertical-align: middle;\n",
              "    }\n",
              "\n",
              "    .dataframe tbody tr th {\n",
              "        vertical-align: top;\n",
              "    }\n",
              "\n",
              "    .dataframe thead th {\n",
              "        text-align: right;\n",
              "    }\n",
              "</style>\n",
              "<table border=\"1\" class=\"dataframe\">\n",
              "  <thead>\n",
              "    <tr style=\"text-align: right;\">\n",
              "      <th></th>\n",
              "      <th>id</th>\n",
              "      <th>user_name</th>\n",
              "      <th>user_location</th>\n",
              "      <th>user_description</th>\n",
              "      <th>user_created</th>\n",
              "      <th>user_followers</th>\n",
              "      <th>user_friends</th>\n",
              "      <th>user_favourites</th>\n",
              "      <th>user_verified</th>\n",
              "      <th>date</th>\n",
              "      <th>text</th>\n",
              "      <th>hashtags</th>\n",
              "      <th>source</th>\n",
              "      <th>retweets</th>\n",
              "      <th>favorites</th>\n",
              "      <th>is_retweet</th>\n",
              "      <th>country_name</th>\n",
              "      <th>clean_text</th>\n",
              "    </tr>\n",
              "  </thead>\n",
              "  <tbody>\n",
              "    <tr>\n",
              "      <th>0</th>\n",
              "      <td>1340539111971516416</td>\n",
              "      <td>Rachel Roh</td>\n",
              "      <td>La Crescenta-Montrose, CA</td>\n",
              "      <td>Aggregator of Asian American news; scanning di...</td>\n",
              "      <td>2009-04-08 17:52:46</td>\n",
              "      <td>405</td>\n",
              "      <td>1692</td>\n",
              "      <td>3247</td>\n",
              "      <td>False</td>\n",
              "      <td>2020-12-20</td>\n",
              "      <td>Same folks said daikon paste could treat a cyt...</td>\n",
              "      <td>['PfizerBioNTech']</td>\n",
              "      <td>Twitter for Android</td>\n",
              "      <td>0</td>\n",
              "      <td>0</td>\n",
              "      <td>False</td>\n",
              "      <td>CA</td>\n",
              "      <td>folk said daikon paste could treat cytokine st...</td>\n",
              "    </tr>\n",
              "    <tr>\n",
              "      <th>1</th>\n",
              "      <td>1338158543359250433</td>\n",
              "      <td>Albert Fong</td>\n",
              "      <td>San Francisco, CA</td>\n",
              "      <td>Marketing dude, tech geek, heavy metal &amp; '80s ...</td>\n",
              "      <td>2009-09-21 15:27:30</td>\n",
              "      <td>834</td>\n",
              "      <td>666</td>\n",
              "      <td>178</td>\n",
              "      <td>False</td>\n",
              "      <td>2020-12-13</td>\n",
              "      <td>While the world has been on the wrong side of ...</td>\n",
              "      <td>NaN</td>\n",
              "      <td>Twitter Web App</td>\n",
              "      <td>1</td>\n",
              "      <td>1</td>\n",
              "      <td>False</td>\n",
              "      <td>CA</td>\n",
              "      <td>world wrong side history year, hopefully, bigg...</td>\n",
              "    </tr>\n",
              "    <tr>\n",
              "      <th>2</th>\n",
              "      <td>1337858199140118533</td>\n",
              "      <td>eli🇱🇹🇪🇺👌</td>\n",
              "      <td>Your Bed</td>\n",
              "      <td>heil, hydra 🖐☺</td>\n",
              "      <td>2020-06-25 23:30:28</td>\n",
              "      <td>10</td>\n",
              "      <td>88</td>\n",
              "      <td>155</td>\n",
              "      <td>False</td>\n",
              "      <td>2020-12-12</td>\n",
              "      <td>#coronavirus #SputnikV #AstraZeneca #PfizerBio...</td>\n",
              "      <td>['coronavirus', 'SputnikV', 'AstraZeneca', 'Pf...</td>\n",
              "      <td>Twitter for Android</td>\n",
              "      <td>0</td>\n",
              "      <td>0</td>\n",
              "      <td>False</td>\n",
              "      <td>Your Bed</td>\n",
              "      <td>coronavirus sputnikv astrazeneca pfizerbiontec...</td>\n",
              "    </tr>\n",
              "    <tr>\n",
              "      <th>3</th>\n",
              "      <td>1337855739918835717</td>\n",
              "      <td>Charles Adler</td>\n",
              "      <td>Vancouver, BC - Canada</td>\n",
              "      <td>Hosting \"CharlesAdlerTonight\" Global News Radi...</td>\n",
              "      <td>2008-09-10 11:28:53</td>\n",
              "      <td>49165</td>\n",
              "      <td>3933</td>\n",
              "      <td>21853</td>\n",
              "      <td>True</td>\n",
              "      <td>2020-12-12</td>\n",
              "      <td>Facts are immutable, Senator, even when you're...</td>\n",
              "      <td>NaN</td>\n",
              "      <td>Twitter Web App</td>\n",
              "      <td>446</td>\n",
              "      <td>2129</td>\n",
              "      <td>False</td>\n",
              "      <td>BC - Canada</td>\n",
              "      <td>fact immutable, senator, even ethically sturdy...</td>\n",
              "    </tr>\n",
              "    <tr>\n",
              "      <th>4</th>\n",
              "      <td>1337854064604966912</td>\n",
              "      <td>Citizen News Channel</td>\n",
              "      <td>NaN</td>\n",
              "      <td>Citizen News Channel bringing you an alternati...</td>\n",
              "      <td>2020-04-23 17:58:42</td>\n",
              "      <td>152</td>\n",
              "      <td>580</td>\n",
              "      <td>1473</td>\n",
              "      <td>False</td>\n",
              "      <td>2020-12-12</td>\n",
              "      <td>Explain to me again why we need a vaccine @Bor...</td>\n",
              "      <td>['whereareallthesickpeople', 'PfizerBioNTech']</td>\n",
              "      <td>Twitter for iPhone</td>\n",
              "      <td>0</td>\n",
              "      <td>0</td>\n",
              "      <td>False</td>\n",
              "      <td>NaN</td>\n",
              "      <td>explain need vaccine whereareallthesickpeople ...</td>\n",
              "    </tr>\n",
              "  </tbody>\n",
              "</table>\n",
              "</div>"
            ],
            "text/plain": [
              "                    id  ...                                         clean_text\n",
              "0  1340539111971516416  ...  folk said daikon paste could treat cytokine st...\n",
              "1  1338158543359250433  ...  world wrong side history year, hopefully, bigg...\n",
              "2  1337858199140118533  ...  coronavirus sputnikv astrazeneca pfizerbiontec...\n",
              "3  1337855739918835717  ...  fact immutable, senator, even ethically sturdy...\n",
              "4  1337854064604966912  ...  explain need vaccine whereareallthesickpeople ...\n",
              "\n",
              "[5 rows x 18 columns]"
            ]
          },
          "metadata": {},
          "execution_count": 24
        }
      ]
    },
    {
      "cell_type": "code",
      "metadata": {
        "id": "hKkrfrDPj21z"
      },
      "source": [
        "def refer(tweet, refs):\n",
        "  flag =0\n",
        "  for ref in refs:\n",
        "    if tweet.find(ref) != -1:\n",
        "      flag =1\n",
        "  return flag\n",
        "\n",
        "pfizer_refs = [\"Pfizer\",\"pfizer\",\"Pfizer–BioNTech\",\"pfizer-bioNtech\",\"BioNTech\",\"biontech\"]\n",
        "bbiotech_refs = [\"covax\",\"covaxin\",\"Covax\",\"Covaxin\",\"Bharat Biotech\",\"bharat biotech\",\"BharatBiotech\",\"bharatbiotech\"]\n",
        "sputnik_refs = [\"russia\",\"sputnik\",\"Sputnik\",\"V\"]\n",
        "astra_refs = ['sii','SII','adar poonawalla','Covishield','covishield','astra','zenca','Oxford–AstraZeneca','astrazenca','oxford-astrazenca','serum institiute']\n",
        "moderna_refs = ['moderna','Moderna','mRNA-1273','Spikevax']\n",
        "\n",
        "df['pfizer'] = df['clean_text'].apply(lambda x : refer(x, pfizer_refs))\n",
        "df['bbiotech'] = df['clean_text'].apply(lambda x : refer(x, bbiotech_refs))\n",
        "df['sputnik'] = df['clean_text'].apply(lambda x : refer(x, sputnik_refs))\n",
        "df['astra'] = df['clean_text'].apply(lambda x : refer(x, astra_refs))\n",
        "df['moderna'] = df['clean_text'].apply(lambda x : refer(x, moderna_refs))"
      ],
      "execution_count": 25,
      "outputs": []
    },
    {
      "cell_type": "code",
      "metadata": {
        "colab": {
          "base_uri": "https://localhost:8080/",
          "height": 1000
        },
        "id": "J8HimJwGj210",
        "outputId": "cabcb828-f1ac-4c93-b1da-bc76932ca8cd"
      },
      "source": [
        "plt.figure(figsize=(25,20))\n",
        "for i, group in df.groupby('date'):\n",
        "    plt.bar(group['date'].iloc[0],group['clean_text'].count())\n",
        "plt.ylabel('number of tweets')\n",
        "plt.xlabel('date')\n",
        "plt.title('Number of tweets/Day'); "
      ],
      "execution_count": 26,
      "outputs": [
        {
          "output_type": "display_data",
          "data": {
            "image/png": "[encoded data removed]",
            "text/plain": [
              "<Figure size 1800x1440 with 1 Axes>"
            ]
          },
          "metadata": {
            "needs_background": "light"
          }
        }
      ]
    },
    {
      "cell_type": "markdown",
      "metadata": {
        "id": "CwedQvSzj211"
      },
      "source": [
        "### Modify on dataframe"
      ]
    },
    {
      "cell_type": "code",
      "metadata": {
        "colab": {
          "base_uri": "https://localhost:8080/",
          "height": 513
        },
        "id": "wlCqSfltj212",
        "outputId": "ad8e01f2-edac-476a-f0fc-658937b6e96c"
      },
      "source": [
        "df.head()"
      ],
      "execution_count": 27,
      "outputs": [
        {
          "output_type": "execute_result",
          "data": {
            "text/html": [
              "<div>\n",
              "<style scoped>\n",
              "    .dataframe tbody tr th:only-of-type {\n",
              "        vertical-align: middle;\n",
              "    }\n",
              "\n",
              "    .dataframe tbody tr th {\n",
              "        vertical-align: top;\n",
              "    }\n",
              "\n",
              "    .dataframe thead th {\n",
              "        text-align: right;\n",
              "    }\n",
              "</style>\n",
              "<table border=\"1\" class=\"dataframe\">\n",
              "  <thead>\n",
              "    <tr style=\"text-align: right;\">\n",
              "      <th></th>\n",
              "      <th>id</th>\n",
              "      <th>user_name</th>\n",
              "      <th>user_location</th>\n",
              "      <th>user_description</th>\n",
              "      <th>user_created</th>\n",
              "      <th>user_followers</th>\n",
              "      <th>user_friends</th>\n",
              "      <th>user_favourites</th>\n",
              "      <th>user_verified</th>\n",
              "      <th>date</th>\n",
              "      <th>text</th>\n",
              "      <th>hashtags</th>\n",
              "      <th>source</th>\n",
              "      <th>retweets</th>\n",
              "      <th>favorites</th>\n",
              "      <th>is_retweet</th>\n",
              "      <th>country_name</th>\n",
              "      <th>clean_text</th>\n",
              "      <th>pfizer</th>\n",
              "      <th>bbiotech</th>\n",
              "      <th>sputnik</th>\n",
              "      <th>astra</th>\n",
              "      <th>moderna</th>\n",
              "    </tr>\n",
              "  </thead>\n",
              "  <tbody>\n",
              "    <tr>\n",
              "      <th>0</th>\n",
              "      <td>1340539111971516416</td>\n",
              "      <td>Rachel Roh</td>\n",
              "      <td>La Crescenta-Montrose, CA</td>\n",
              "      <td>Aggregator of Asian American news; scanning di...</td>\n",
              "      <td>2009-04-08 17:52:46</td>\n",
              "      <td>405</td>\n",
              "      <td>1692</td>\n",
              "      <td>3247</td>\n",
              "      <td>False</td>\n",
              "      <td>2020-12-20</td>\n",
              "      <td>Same folks said daikon paste could treat a cyt...</td>\n",
              "      <td>['PfizerBioNTech']</td>\n",
              "      <td>Twitter for Android</td>\n",
              "      <td>0</td>\n",
              "      <td>0</td>\n",
              "      <td>False</td>\n",
              "      <td>CA</td>\n",
              "      <td>folk said daikon paste could treat cytokine st...</td>\n",
              "      <td>1</td>\n",
              "      <td>0</td>\n",
              "      <td>0</td>\n",
              "      <td>0</td>\n",
              "      <td>0</td>\n",
              "    </tr>\n",
              "    <tr>\n",
              "      <th>1</th>\n",
              "      <td>1338158543359250433</td>\n",
              "      <td>Albert Fong</td>\n",
              "      <td>San Francisco, CA</td>\n",
              "      <td>Marketing dude, tech geek, heavy metal &amp; '80s ...</td>\n",
              "      <td>2009-09-21 15:27:30</td>\n",
              "      <td>834</td>\n",
              "      <td>666</td>\n",
              "      <td>178</td>\n",
              "      <td>False</td>\n",
              "      <td>2020-12-13</td>\n",
              "      <td>While the world has been on the wrong side of ...</td>\n",
              "      <td>NaN</td>\n",
              "      <td>Twitter Web App</td>\n",
              "      <td>1</td>\n",
              "      <td>1</td>\n",
              "      <td>False</td>\n",
              "      <td>CA</td>\n",
              "      <td>world wrong side history year, hopefully, bigg...</td>\n",
              "      <td>0</td>\n",
              "      <td>0</td>\n",
              "      <td>0</td>\n",
              "      <td>0</td>\n",
              "      <td>0</td>\n",
              "    </tr>\n",
              "    <tr>\n",
              "      <th>2</th>\n",
              "      <td>1337858199140118533</td>\n",
              "      <td>eli🇱🇹🇪🇺👌</td>\n",
              "      <td>Your Bed</td>\n",
              "      <td>heil, hydra 🖐☺</td>\n",
              "      <td>2020-06-25 23:30:28</td>\n",
              "      <td>10</td>\n",
              "      <td>88</td>\n",
              "      <td>155</td>\n",
              "      <td>False</td>\n",
              "      <td>2020-12-12</td>\n",
              "      <td>#coronavirus #SputnikV #AstraZeneca #PfizerBio...</td>\n",
              "      <td>['coronavirus', 'SputnikV', 'AstraZeneca', 'Pf...</td>\n",
              "      <td>Twitter for Android</td>\n",
              "      <td>0</td>\n",
              "      <td>0</td>\n",
              "      <td>False</td>\n",
              "      <td>Your Bed</td>\n",
              "      <td>coronavirus sputnikv astrazeneca pfizerbiontec...</td>\n",
              "      <td>1</td>\n",
              "      <td>0</td>\n",
              "      <td>1</td>\n",
              "      <td>1</td>\n",
              "      <td>1</td>\n",
              "    </tr>\n",
              "    <tr>\n",
              "      <th>3</th>\n",
              "      <td>1337855739918835717</td>\n",
              "      <td>Charles Adler</td>\n",
              "      <td>Vancouver, BC - Canada</td>\n",
              "      <td>Hosting \"CharlesAdlerTonight\" Global News Radi...</td>\n",
              "      <td>2008-09-10 11:28:53</td>\n",
              "      <td>49165</td>\n",
              "      <td>3933</td>\n",
              "      <td>21853</td>\n",
              "      <td>True</td>\n",
              "      <td>2020-12-12</td>\n",
              "      <td>Facts are immutable, Senator, even when you're...</td>\n",
              "      <td>NaN</td>\n",
              "      <td>Twitter Web App</td>\n",
              "      <td>446</td>\n",
              "      <td>2129</td>\n",
              "      <td>False</td>\n",
              "      <td>BC - Canada</td>\n",
              "      <td>fact immutable, senator, even ethically sturdy...</td>\n",
              "      <td>0</td>\n",
              "      <td>0</td>\n",
              "      <td>0</td>\n",
              "      <td>0</td>\n",
              "      <td>0</td>\n",
              "    </tr>\n",
              "    <tr>\n",
              "      <th>4</th>\n",
              "      <td>1337854064604966912</td>\n",
              "      <td>Citizen News Channel</td>\n",
              "      <td>NaN</td>\n",
              "      <td>Citizen News Channel bringing you an alternati...</td>\n",
              "      <td>2020-04-23 17:58:42</td>\n",
              "      <td>152</td>\n",
              "      <td>580</td>\n",
              "      <td>1473</td>\n",
              "      <td>False</td>\n",
              "      <td>2020-12-12</td>\n",
              "      <td>Explain to me again why we need a vaccine @Bor...</td>\n",
              "      <td>['whereareallthesickpeople', 'PfizerBioNTech']</td>\n",
              "      <td>Twitter for iPhone</td>\n",
              "      <td>0</td>\n",
              "      <td>0</td>\n",
              "      <td>False</td>\n",
              "      <td>NaN</td>\n",
              "      <td>explain need vaccine whereareallthesickpeople ...</td>\n",
              "      <td>1</td>\n",
              "      <td>0</td>\n",
              "      <td>0</td>\n",
              "      <td>0</td>\n",
              "      <td>0</td>\n",
              "    </tr>\n",
              "  </tbody>\n",
              "</table>\n",
              "</div>"
            ],
            "text/plain": [
              "                    id             user_name  ... astra moderna\n",
              "0  1340539111971516416            Rachel Roh  ...     0       0\n",
              "1  1338158543359250433           Albert Fong  ...     0       0\n",
              "2  1337858199140118533              eli🇱🇹🇪🇺👌  ...     1       1\n",
              "3  1337855739918835717         Charles Adler  ...     0       0\n",
              "4  1337854064604966912  Citizen News Channel  ...     0       0\n",
              "\n",
              "[5 rows x 23 columns]"
            ]
          },
          "metadata": {},
          "execution_count": 27
        }
      ]
    },
    {
      "cell_type": "code",
      "metadata": {
        "colab": {
          "base_uri": "https://localhost:8080/"
        },
        "id": "l8GgKo00j213",
        "outputId": "7e22b361-3d6b-49bb-ea47-63bf8a56dc4c"
      },
      "source": [
        "df.columns"
      ],
      "execution_count": 28,
      "outputs": [
        {
          "output_type": "execute_result",
          "data": {
            "text/plain": [
              "Index(['id', 'user_name', 'user_location', 'user_description', 'user_created',\n",
              "       'user_followers', 'user_friends', 'user_favourites', 'user_verified',\n",
              "       'date', 'text', 'hashtags', 'source', 'retweets', 'favorites',\n",
              "       'is_retweet', 'country_name', 'clean_text', 'pfizer', 'bbiotech',\n",
              "       'sputnik', 'astra', 'moderna'],\n",
              "      dtype='object')"
            ]
          },
          "metadata": {},
          "execution_count": 28
        }
      ]
    },
    {
      "cell_type": "code",
      "metadata": {
        "id": "ASKD_A1jj214"
      },
      "source": [
        "(df.drop(columns={'user_name', 'user_location', 'user_description', 'user_created',\n",
        "                    'user_followers', 'user_friends', 'user_favourites', 'user_verified',\n",
        "                    'text', 'source', 'retweets', 'favorites','is_retweet'}, inplace=True))"
      ],
      "execution_count": 29,
      "outputs": []
    },
    {
      "cell_type": "code",
      "metadata": {
        "colab": {
          "base_uri": "https://localhost:8080/",
          "height": 204
        },
        "id": "Lm7dVCFgj214",
        "outputId": "4b15db92-88b3-46ab-c3ef-8aa8ebde99a9"
      },
      "source": [
        "df.head()"
      ],
      "execution_count": 30,
      "outputs": [
        {
          "output_type": "execute_result",
          "data": {
            "text/html": [
              "<div>\n",
              "<style scoped>\n",
              "    .dataframe tbody tr th:only-of-type {\n",
              "        vertical-align: middle;\n",
              "    }\n",
              "\n",
              "    .dataframe tbody tr th {\n",
              "        vertical-align: top;\n",
              "    }\n",
              "\n",
              "    .dataframe thead th {\n",
              "        text-align: right;\n",
              "    }\n",
              "</style>\n",
              "<table border=\"1\" class=\"dataframe\">\n",
              "  <thead>\n",
              "    <tr style=\"text-align: right;\">\n",
              "      <th></th>\n",
              "      <th>id</th>\n",
              "      <th>date</th>\n",
              "      <th>hashtags</th>\n",
              "      <th>country_name</th>\n",
              "      <th>clean_text</th>\n",
              "      <th>pfizer</th>\n",
              "      <th>bbiotech</th>\n",
              "      <th>sputnik</th>\n",
              "      <th>astra</th>\n",
              "      <th>moderna</th>\n",
              "    </tr>\n",
              "  </thead>\n",
              "  <tbody>\n",
              "    <tr>\n",
              "      <th>0</th>\n",
              "      <td>1340539111971516416</td>\n",
              "      <td>2020-12-20</td>\n",
              "      <td>['PfizerBioNTech']</td>\n",
              "      <td>CA</td>\n",
              "      <td>folk said daikon paste could treat cytokine st...</td>\n",
              "      <td>1</td>\n",
              "      <td>0</td>\n",
              "      <td>0</td>\n",
              "      <td>0</td>\n",
              "      <td>0</td>\n",
              "    </tr>\n",
              "    <tr>\n",
              "      <th>1</th>\n",
              "      <td>1338158543359250433</td>\n",
              "      <td>2020-12-13</td>\n",
              "      <td>NaN</td>\n",
              "      <td>CA</td>\n",
              "      <td>world wrong side history year, hopefully, bigg...</td>\n",
              "      <td>0</td>\n",
              "      <td>0</td>\n",
              "      <td>0</td>\n",
              "      <td>0</td>\n",
              "      <td>0</td>\n",
              "    </tr>\n",
              "    <tr>\n",
              "      <th>2</th>\n",
              "      <td>1337858199140118533</td>\n",
              "      <td>2020-12-12</td>\n",
              "      <td>['coronavirus', 'SputnikV', 'AstraZeneca', 'Pf...</td>\n",
              "      <td>Your Bed</td>\n",
              "      <td>coronavirus sputnikv astrazeneca pfizerbiontec...</td>\n",
              "      <td>1</td>\n",
              "      <td>0</td>\n",
              "      <td>1</td>\n",
              "      <td>1</td>\n",
              "      <td>1</td>\n",
              "    </tr>\n",
              "    <tr>\n",
              "      <th>3</th>\n",
              "      <td>1337855739918835717</td>\n",
              "      <td>2020-12-12</td>\n",
              "      <td>NaN</td>\n",
              "      <td>BC - Canada</td>\n",
              "      <td>fact immutable, senator, even ethically sturdy...</td>\n",
              "      <td>0</td>\n",
              "      <td>0</td>\n",
              "      <td>0</td>\n",
              "      <td>0</td>\n",
              "      <td>0</td>\n",
              "    </tr>\n",
              "    <tr>\n",
              "      <th>4</th>\n",
              "      <td>1337854064604966912</td>\n",
              "      <td>2020-12-12</td>\n",
              "      <td>['whereareallthesickpeople', 'PfizerBioNTech']</td>\n",
              "      <td>NaN</td>\n",
              "      <td>explain need vaccine whereareallthesickpeople ...</td>\n",
              "      <td>1</td>\n",
              "      <td>0</td>\n",
              "      <td>0</td>\n",
              "      <td>0</td>\n",
              "      <td>0</td>\n",
              "    </tr>\n",
              "  </tbody>\n",
              "</table>\n",
              "</div>"
            ],
            "text/plain": [
              "                    id        date  ... astra moderna\n",
              "0  1340539111971516416  2020-12-20  ...     0       0\n",
              "1  1338158543359250433  2020-12-13  ...     0       0\n",
              "2  1337858199140118533  2020-12-12  ...     1       1\n",
              "3  1337855739918835717  2020-12-12  ...     0       0\n",
              "4  1337854064604966912  2020-12-12  ...     0       0\n",
              "\n",
              "[5 rows x 10 columns]"
            ]
          },
          "metadata": {},
          "execution_count": 30
        }
      ]
    },
    {
      "cell_type": "code",
      "metadata": {
        "colab": {
          "base_uri": "https://localhost:8080/"
        },
        "id": "R1qaG5urj215",
        "outputId": "7ce88024-29c2-48dd-c9d0-f1068c69b2ba"
      },
      "source": [
        "df.columns"
      ],
      "execution_count": 31,
      "outputs": [
        {
          "output_type": "execute_result",
          "data": {
            "text/plain": [
              "Index(['id', 'date', 'hashtags', 'country_name', 'clean_text', 'pfizer',\n",
              "       'bbiotech', 'sputnik', 'astra', 'moderna'],\n",
              "      dtype='object')"
            ]
          },
          "metadata": {},
          "execution_count": 31
        }
      ]
    },
    {
      "cell_type": "code",
      "metadata": {
        "colab": {
          "base_uri": "https://localhost:8080/"
        },
        "id": "Rfx_rv51j216",
        "outputId": "deff0ea0-2fd9-4860-e6e3-dd6d77eb7547"
      },
      "source": [
        "df.info()"
      ],
      "execution_count": 32,
      "outputs": [
        {
          "output_type": "stream",
          "name": "stdout",
          "text": [
            "<class 'pandas.core.frame.DataFrame'>\n",
            "RangeIndex: 193272 entries, 0 to 193271\n",
            "Data columns (total 10 columns):\n",
            " #   Column        Non-Null Count   Dtype \n",
            "---  ------        --------------   ----- \n",
            " 0   id            193272 non-null  int64 \n",
            " 1   date          193272 non-null  object\n",
            " 2   hashtags      152299 non-null  object\n",
            " 3   country_name  134699 non-null  object\n",
            " 4   clean_text    193272 non-null  object\n",
            " 5   pfizer        193272 non-null  int64 \n",
            " 6   bbiotech      193272 non-null  int64 \n",
            " 7   sputnik       193272 non-null  int64 \n",
            " 8   astra         193272 non-null  int64 \n",
            " 9   moderna       193272 non-null  int64 \n",
            "dtypes: int64(6), object(4)\n",
            "memory usage: 14.7+ MB\n"
          ]
        }
      ]
    },
    {
      "cell_type": "code",
      "metadata": {
        "colab": {
          "base_uri": "https://localhost:8080/"
        },
        "id": "rJnsPM-mj216",
        "outputId": "41c08cdb-1d80-4d6a-f35c-b7bdf6732395"
      },
      "source": [
        "df.isna().sum()"
      ],
      "execution_count": 33,
      "outputs": [
        {
          "output_type": "execute_result",
          "data": {
            "text/plain": [
              "id                  0\n",
              "date                0\n",
              "hashtags        40973\n",
              "country_name    58573\n",
              "clean_text          0\n",
              "pfizer              0\n",
              "bbiotech            0\n",
              "sputnik             0\n",
              "astra               0\n",
              "moderna             0\n",
              "dtype: int64"
            ]
          },
          "metadata": {},
          "execution_count": 33
        }
      ]
    },
    {
      "cell_type": "code",
      "metadata": {
        "id": "v1vz7ojpj217"
      },
      "source": [
        "# to save the cleaned data \n",
        "df.to_csv('Data/cleaned_data.csv')"
      ],
      "execution_count": 36,
      "outputs": []
    },
    {
      "cell_type": "markdown",
      "metadata": {
        "id": "fu9OWLRSj218"
      },
      "source": [
        "# Labelling the data "
      ]
    },
    {
      "cell_type": "code",
      "metadata": {
        "colab": {
          "base_uri": "https://localhost:8080/"
        },
        "id": "m4qXg56mj219",
        "outputId": "8b3d1df2-3cde-4e6f-d856-5ac28bd39b3a"
      },
      "source": [
        "from nltk.sentiment.vader import SentimentIntensityAnalyzer\n",
        "sent = SentimentIntensityAnalyzer()"
      ],
      "execution_count": 38,
      "outputs": [
        {
          "output_type": "stream",
          "name": "stderr",
          "text": [
            "/usr/local/lib/python3.7/dist-packages/nltk/twitter/__init__.py:20: UserWarning: The twython library has not been installed. Some functionality from the twitter package will not be available.\n",
            "  warnings.warn(\"The twython library has not been installed. \"\n"
          ]
        }
      ]
    },
    {
      "cell_type": "code",
      "metadata": {
        "id": "XSLNlwHTj22B"
      },
      "source": [
        "df['label_sent'] = df['clean_text'].apply(lambda x: 1 if sent.polarity_scores(x)['compound']>0 else 0) "
      ],
      "execution_count": 39,
      "outputs": []
    },
    {
      "cell_type": "code",
      "metadata": {
        "colab": {
          "base_uri": "https://localhost:8080/",
          "height": 204
        },
        "id": "X4eCtKaLj22C",
        "outputId": "8f19e6ea-48b9-4f5c-c9ee-dd5a86cad56f"
      },
      "source": [
        "df.head()"
      ],
      "execution_count": 40,
      "outputs": [
        {
          "output_type": "execute_result",
          "data": {
            "text/html": [
              "<div>\n",
              "<style scoped>\n",
              "    .dataframe tbody tr th:only-of-type {\n",
              "        vertical-align: middle;\n",
              "    }\n",
              "\n",
              "    .dataframe tbody tr th {\n",
              "        vertical-align: top;\n",
              "    }\n",
              "\n",
              "    .dataframe thead th {\n",
              "        text-align: right;\n",
              "    }\n",
              "</style>\n",
              "<table border=\"1\" class=\"dataframe\">\n",
              "  <thead>\n",
              "    <tr style=\"text-align: right;\">\n",
              "      <th></th>\n",
              "      <th>id</th>\n",
              "      <th>date</th>\n",
              "      <th>hashtags</th>\n",
              "      <th>country_name</th>\n",
              "      <th>clean_text</th>\n",
              "      <th>pfizer</th>\n",
              "      <th>bbiotech</th>\n",
              "      <th>sputnik</th>\n",
              "      <th>astra</th>\n",
              "      <th>moderna</th>\n",
              "      <th>label_sent</th>\n",
              "    </tr>\n",
              "  </thead>\n",
              "  <tbody>\n",
              "    <tr>\n",
              "      <th>0</th>\n",
              "      <td>1340539111971516416</td>\n",
              "      <td>2020-12-20</td>\n",
              "      <td>['PfizerBioNTech']</td>\n",
              "      <td>CA</td>\n",
              "      <td>folk said daikon paste could treat cytokine st...</td>\n",
              "      <td>1</td>\n",
              "      <td>0</td>\n",
              "      <td>0</td>\n",
              "      <td>0</td>\n",
              "      <td>0</td>\n",
              "      <td>1</td>\n",
              "    </tr>\n",
              "    <tr>\n",
              "      <th>1</th>\n",
              "      <td>1338158543359250433</td>\n",
              "      <td>2020-12-13</td>\n",
              "      <td>NaN</td>\n",
              "      <td>CA</td>\n",
              "      <td>world wrong side history year, hopefully, bigg...</td>\n",
              "      <td>0</td>\n",
              "      <td>0</td>\n",
              "      <td>0</td>\n",
              "      <td>0</td>\n",
              "      <td>0</td>\n",
              "      <td>0</td>\n",
              "    </tr>\n",
              "    <tr>\n",
              "      <th>2</th>\n",
              "      <td>1337858199140118533</td>\n",
              "      <td>2020-12-12</td>\n",
              "      <td>['coronavirus', 'SputnikV', 'AstraZeneca', 'Pf...</td>\n",
              "      <td>Your Bed</td>\n",
              "      <td>coronavirus sputnikv astrazeneca pfizerbiontec...</td>\n",
              "      <td>1</td>\n",
              "      <td>0</td>\n",
              "      <td>1</td>\n",
              "      <td>1</td>\n",
              "      <td>1</td>\n",
              "      <td>1</td>\n",
              "    </tr>\n",
              "    <tr>\n",
              "      <th>3</th>\n",
              "      <td>1337855739918835717</td>\n",
              "      <td>2020-12-12</td>\n",
              "      <td>NaN</td>\n",
              "      <td>BC - Canada</td>\n",
              "      <td>fact immutable, senator, even ethically sturdy...</td>\n",
              "      <td>0</td>\n",
              "      <td>0</td>\n",
              "      <td>0</td>\n",
              "      <td>0</td>\n",
              "      <td>0</td>\n",
              "      <td>0</td>\n",
              "    </tr>\n",
              "    <tr>\n",
              "      <th>4</th>\n",
              "      <td>1337854064604966912</td>\n",
              "      <td>2020-12-12</td>\n",
              "      <td>['whereareallthesickpeople', 'PfizerBioNTech']</td>\n",
              "      <td>NaN</td>\n",
              "      <td>explain need vaccine whereareallthesickpeople ...</td>\n",
              "      <td>1</td>\n",
              "      <td>0</td>\n",
              "      <td>0</td>\n",
              "      <td>0</td>\n",
              "      <td>0</td>\n",
              "      <td>0</td>\n",
              "    </tr>\n",
              "  </tbody>\n",
              "</table>\n",
              "</div>"
            ],
            "text/plain": [
              "                    id        date  ... moderna label_sent\n",
              "0  1340539111971516416  2020-12-20  ...       0          1\n",
              "1  1338158543359250433  2020-12-13  ...       0          0\n",
              "2  1337858199140118533  2020-12-12  ...       1          1\n",
              "3  1337855739918835717  2020-12-12  ...       0          0\n",
              "4  1337854064604966912  2020-12-12  ...       0          0\n",
              "\n",
              "[5 rows x 11 columns]"
            ]
          },
          "metadata": {},
          "execution_count": 40
        }
      ]
    },
    {
      "cell_type": "code",
      "metadata": {
        "colab": {
          "base_uri": "https://localhost:8080/",
          "height": 305
        },
        "id": "YCdN6f3Uj22D",
        "outputId": "f890fbf9-393b-4df6-fe03-c4546dfaf7da"
      },
      "source": [
        "df['label_sent'].value_counts().plot(kind='bar')\n",
        "plt.title('The positive vs negative tweets')\n",
        "plt.xlabel('label')\n",
        "plt.xticks([0, 1],['Neg', 'Pos'])\n",
        "plt.ylabel('number of tweets');\n"
      ],
      "execution_count": 41,
      "outputs": [
        {
          "output_type": "display_data",
          "data": {
            "image/png": "[encoded data removed]",
            "text/plain": [
              "<Figure size 432x288 with 1 Axes>"
            ]
          },
          "metadata": {
            "needs_background": "light"
          }
        }
      ]
    },
    {
      "cell_type": "code",
      "metadata": {
        "id": "CmpYZCPaj22D"
      },
      "source": [
        "from textblob import TextBlob"
      ],
      "execution_count": 42,
      "outputs": []
    },
    {
      "cell_type": "code",
      "metadata": {
        "id": "AkZ8cua4j22E"
      },
      "source": [
        "def generate_label(x):\n",
        "    return 1 if TextBlob(x).polarity>0 else 0"
      ],
      "execution_count": 43,
      "outputs": []
    },
    {
      "cell_type": "code",
      "metadata": {
        "id": "oAAdDTXZj22E"
      },
      "source": [
        "df['blob_label'] = df['clean_text'].apply(lambda x: generate_label(x))"
      ],
      "execution_count": 44,
      "outputs": []
    },
    {
      "cell_type": "code",
      "metadata": {
        "id": "XstrV-qzj22F"
      },
      "source": [
        "df.to_csv(\"Data/VaccinesData.csv\", index=False)"
      ],
      "execution_count": 46,
      "outputs": []
    },
    {
      "cell_type": "code",
      "metadata": {
        "colab": {
          "base_uri": "https://localhost:8080/"
        },
        "id": "fQkJYpQij22G",
        "outputId": "723170bf-c8c6-4df0-f81e-84eb40847a22"
      },
      "source": [
        "X = df.clean_text\n",
        "Y = df.label_sent\n",
        "print(\"Data shapes: \", X.shape, Y.shape)"
      ],
      "execution_count": 47,
      "outputs": [
        {
          "output_type": "stream",
          "name": "stdout",
          "text": [
            "Data shapes:  (193272,) (193272,)\n"
          ]
        }
      ]
    },
    {
      "cell_type": "markdown",
      "metadata": {
        "id": "tkuAQuN-j22G"
      },
      "source": [
        "Split the data"
      ]
    },
    {
      "cell_type": "code",
      "metadata": {
        "id": "PaiXCdEvj22H"
      },
      "source": [
        "from sklearn.model_selection import train_test_split\n",
        "X_train, X_test, y_train, y_test = train_test_split(X, Y, test_size=0.25, random_state=123)"
      ],
      "execution_count": 48,
      "outputs": []
    },
    {
      "cell_type": "code",
      "metadata": {
        "colab": {
          "base_uri": "https://localhost:8080/"
        },
        "id": "ABDsyPYzj22H",
        "outputId": "296ca2c2-9f8c-49d4-cb0a-77ac118f374e"
      },
      "source": [
        "X_train.shape, X_test.shape"
      ],
      "execution_count": 49,
      "outputs": [
        {
          "output_type": "execute_result",
          "data": {
            "text/plain": [
              "((144954,), (48318,))"
            ]
          },
          "metadata": {},
          "execution_count": 49
        }
      ]
    },
    {
      "cell_type": "code",
      "metadata": {
        "id": "C7fKLm-wj22I"
      },
      "source": [
        "y_train_blob, y_test_blob = train_test_split(df['blob_label'], test_size=0.25, random_state=123)"
      ],
      "execution_count": 50,
      "outputs": []
    },
    {
      "cell_type": "markdown",
      "metadata": {
        "id": "Iwz2r_mWj22J"
      },
      "source": [
        "apply veectorzition on text"
      ]
    },
    {
      "cell_type": "code",
      "metadata": {
        "id": "yuP50EFtj22J"
      },
      "source": [
        "from sklearn.feature_extraction.text import TfidfVectorizer\n",
        "tfv = TfidfVectorizer()"
      ],
      "execution_count": 51,
      "outputs": []
    },
    {
      "cell_type": "code",
      "metadata": {
        "id": "IyPIKfeLj22J"
      },
      "source": [
        "X_train = tfv.fit_transform(X_train)"
      ],
      "execution_count": 52,
      "outputs": []
    },
    {
      "cell_type": "code",
      "metadata": {
        "id": "sgTmDk7Zj22K"
      },
      "source": [
        "X_test = tfv.transform(X_test)"
      ],
      "execution_count": 53,
      "outputs": []
    },
    {
      "cell_type": "markdown",
      "metadata": {
        "id": "nOe62mi0j22K"
      },
      "source": [
        "# Models"
      ]
    },
    {
      "cell_type": "markdown",
      "metadata": {
        "id": "Ugf-eSUVj22K"
      },
      "source": [
        "Train a naive bayes on ```SentimentIntensityAnalyzer``` labels"
      ]
    },
    {
      "cell_type": "code",
      "metadata": {
        "colab": {
          "base_uri": "https://localhost:8080/"
        },
        "id": "ogSPjENbj22L",
        "outputId": "d9d04772-e53c-4485-cfb2-1c5b07fde8ee"
      },
      "source": [
        "from sklearn.naive_bayes import MultinomialNB\n",
        "nb_sent = MultinomialNB()\n",
        "nb_sent.fit(X_train, y_train)\n",
        "print(f'naive bayes accuracy on SentimentIntensityAnalyzer labels {nb_sent.score(X_test, y_test)}')"
      ],
      "execution_count": 54,
      "outputs": [
        {
          "output_type": "stream",
          "name": "stdout",
          "text": [
            "naive bayes accuracy on SentimentIntensityAnalyzer labels 0.8874746471294341\n"
          ]
        }
      ]
    },
    {
      "cell_type": "markdown",
      "metadata": {
        "id": "S_uND8Xkj22L"
      },
      "source": [
        "Train a random forest on ```SentimentIntensityAnalyzer``` labels"
      ]
    },
    {
      "cell_type": "code",
      "metadata": {
        "colab": {
          "base_uri": "https://localhost:8080/"
        },
        "id": "J4LjKNHlj22M",
        "outputId": "48204d88-ec60-417d-85b2-e3b3d97a313c"
      },
      "source": [
        "from sklearn.ensemble import RandomForestClassifier\n",
        "rf_sent = RandomForestClassifier(random_state = 123)\n",
        "rf_sent.fit(X_train, y_train)\n",
        "print(f'random forest accuracy on SentimentIntensityAnalyzer labels {rf_sent.score(X_test, y_test)}')"
      ],
      "execution_count": 55,
      "outputs": [
        {
          "output_type": "stream",
          "name": "stdout",
          "text": [
            "random forest accuracy on SentimentIntensityAnalyzer labels 0.9453826731238876\n"
          ]
        }
      ]
    },
    {
      "cell_type": "code",
      "metadata": {
        "colab": {
          "base_uri": "https://localhost:8080/"
        },
        "id": "0gzX52PevC0t",
        "outputId": "02577292-b170-4d56-d48d-1bbe3d88293a"
      },
      "source": [
        "from sklearn.metrics import classification_report\n",
        "y_pred = nb_sent.predict(X_test)\n",
        "print(classification_report(y_test, y_pred))"
      ],
      "execution_count": 60,
      "outputs": [
        {
          "output_type": "stream",
          "name": "stdout",
          "text": [
            "              precision    recall  f1-score   support\n",
            "\n",
            "           0       0.90      0.93      0.92     31414\n",
            "           1       0.87      0.80      0.83     16904\n",
            "\n",
            "    accuracy                           0.89     48318\n",
            "   macro avg       0.88      0.87      0.87     48318\n",
            "weighted avg       0.89      0.89      0.89     48318\n",
            "\n"
          ]
        }
      ]
    },
    {
      "cell_type": "code",
      "metadata": {
        "colab": {
          "base_uri": "https://localhost:8080/"
        },
        "id": "bjZ2ILwCvG4n",
        "outputId": "a295701e-8dcb-4656-cae6-b6ee9dd784c8"
      },
      "source": [
        "from sklearn.metrics import classification_report\n",
        "y_pred = rf_sent.predict(X_test)\n",
        "print(classification_report(y_test, y_pred))"
      ],
      "execution_count": 61,
      "outputs": [
        {
          "output_type": "stream",
          "name": "stdout",
          "text": [
            "              precision    recall  f1-score   support\n",
            "\n",
            "           0       0.96      0.95      0.96     31414\n",
            "           1       0.91      0.93      0.92     16904\n",
            "\n",
            "    accuracy                           0.95     48318\n",
            "   macro avg       0.94      0.94      0.94     48318\n",
            "weighted avg       0.95      0.95      0.95     48318\n",
            "\n"
          ]
        }
      ]
    },
    {
      "cell_type": "markdown",
      "metadata": {
        "id": "QR7qqLKoj22S"
      },
      "source": [
        "Train a naive bayes on ```TextBlob``` labels"
      ]
    },
    {
      "cell_type": "code",
      "metadata": {
        "colab": {
          "base_uri": "https://localhost:8080/"
        },
        "id": "THIcIjTEj22T",
        "outputId": "96bd70ec-b736-464b-8712-14125696333d"
      },
      "source": [
        "nb_blob = MultinomialNB()\n",
        "nb_blob.fit(X_train, y_train_blob)\n",
        "print(f'naive bayes accuracy on TextBlob labels {nb_blob.score(X_test, y_test_blob)}')"
      ],
      "execution_count": 59,
      "outputs": [
        {
          "output_type": "stream",
          "name": "stdout",
          "text": [
            "naive bayes accuracy on TextBlob labels 0.9005546587193178\n"
          ]
        }
      ]
    },
    {
      "cell_type": "code",
      "metadata": {
        "colab": {
          "base_uri": "https://localhost:8080/"
        },
        "id": "SroN5c1bvMGX",
        "outputId": "70da91a1-73b3-4b1c-8326-0caf4a4a263c"
      },
      "source": [
        "from sklearn.metrics import classification_report\n",
        "y_pred = nb_blob.predict(X_test)\n",
        "print(classification_report(y_test_blob, y_pred))"
      ],
      "execution_count": 62,
      "outputs": [
        {
          "output_type": "stream",
          "name": "stdout",
          "text": [
            "              precision    recall  f1-score   support\n",
            "\n",
            "           0       0.91      0.94      0.93     31983\n",
            "           1       0.88      0.82      0.85     16335\n",
            "\n",
            "    accuracy                           0.90     48318\n",
            "   macro avg       0.89      0.88      0.89     48318\n",
            "weighted avg       0.90      0.90      0.90     48318\n",
            "\n"
          ]
        }
      ]
    },
    {
      "cell_type": "markdown",
      "metadata": {
        "id": "SkoUqLrLj22U"
      },
      "source": [
        "Train a random forest on ```textBlob``` labels"
      ]
    },
    {
      "cell_type": "code",
      "metadata": {
        "colab": {
          "base_uri": "https://localhost:8080/"
        },
        "id": "oQ8Abebfj22V",
        "outputId": "48410841-81ba-4175-c620-334e03bd2d99"
      },
      "source": [
        "rf_blob = RandomForestClassifier(random_state = 123)\n",
        "rf_blob.fit(X_train, y_train_blob)\n",
        "print(f'random forest accuracy on TextBlob labels {rf_blob.score(X_test, y_test_blob)}')"
      ],
      "execution_count": 63,
      "outputs": [
        {
          "output_type": "stream",
          "name": "stdout",
          "text": [
            "random forest accuracy on TextBlob labels 0.9686866178235854\n"
          ]
        }
      ]
    },
    {
      "cell_type": "code",
      "metadata": {
        "colab": {
          "base_uri": "https://localhost:8080/"
        },
        "id": "LYbKF8frvYXE",
        "outputId": "09cb13c3-f78e-49c9-eeb4-86581d8abd57"
      },
      "source": [
        "from sklearn.metrics import classification_report\n",
        "y_pred = rf_blob.predict(X_test)\n",
        "print(classification_report(y_test_blob, y_pred))"
      ],
      "execution_count": 64,
      "outputs": [
        {
          "output_type": "stream",
          "name": "stdout",
          "text": [
            "              precision    recall  f1-score   support\n",
            "\n",
            "           0       0.98      0.97      0.98     31983\n",
            "           1       0.95      0.96      0.95     16335\n",
            "\n",
            "    accuracy                           0.97     48318\n",
            "   macro avg       0.96      0.97      0.97     48318\n",
            "weighted avg       0.97      0.97      0.97     48318\n",
            "\n"
          ]
        }
      ]
    },
    {
      "cell_type": "markdown",
      "metadata": {
        "id": "8nDOXLJ-j22W"
      },
      "source": [
        "Save the highest accuracy model"
      ]
    },
    {
      "cell_type": "code",
      "metadata": {
        "id": "-eFGvB0yj22W"
      },
      "source": [
        "import pickle \n",
        "with open(\"Models/rf.pkl\", \"wb\") as f:\n",
        "    pickle.dump(rf_blob, f)"
      ],
      "execution_count": 65,
      "outputs": []
    },
    {
      "cell_type": "markdown",
      "metadata": {
        "id": "5nWas5unj22X"
      },
      "source": [
        "# create Pipeline "
      ]
    },
    {
      "cell_type": "code",
      "metadata": {
        "id": "VcO98BDej22Y"
      },
      "source": [
        "from sklearn.pipeline import Pipeline"
      ],
      "execution_count": 66,
      "outputs": []
    },
    {
      "cell_type": "code",
      "metadata": {
        "id": "Xqc3DNjJj22Z"
      },
      "source": [
        "# from sklearn import set_config\n",
        "# set_config(display='diagram')"
      ],
      "execution_count": 69,
      "outputs": []
    },
    {
      "cell_type": "code",
      "metadata": {
        "id": "bW0Cgf14j22Z"
      },
      "source": [
        "vectorize_pipeline = Pipeline(steps=[('vect', tfv)])"
      ],
      "execution_count": 71,
      "outputs": []
    },
    {
      "cell_type": "code",
      "metadata": {
        "colab": {
          "base_uri": "https://localhost:8080/"
        },
        "id": "p_1siZuQj22a",
        "outputId": "cc01f79b-9c0f-4a00-9fd0-73539cebf5e1"
      },
      "source": [
        "vectorize_pipeline"
      ],
      "execution_count": 72,
      "outputs": [
        {
          "output_type": "execute_result",
          "data": {
            "text/plain": [
              "Pipeline(memory=None,\n",
              "         steps=[('vect',\n",
              "                 TfidfVectorizer(analyzer='word', binary=False,\n",
              "                                 decode_error='strict',\n",
              "                                 dtype=<class 'numpy.float64'>,\n",
              "                                 encoding='utf-8', input='content',\n",
              "                                 lowercase=True, max_df=1.0, max_features=None,\n",
              "                                 min_df=1, ngram_range=(1, 1), norm='l2',\n",
              "                                 preprocessor=None, smooth_idf=True,\n",
              "                                 stop_words=None, strip_accents=None,\n",
              "                                 sublinear_tf=False,\n",
              "                                 token_pattern='(?u)\\\\b\\\\w\\\\w+\\\\b',\n",
              "                                 tokenizer=None, use_idf=True,\n",
              "                                 vocabulary=None))],\n",
              "         verbose=False)"
            ]
          },
          "metadata": {},
          "execution_count": 72
        }
      ]
    },
    {
      "cell_type": "code",
      "metadata": {
        "id": "QOMqqqUij22b"
      },
      "source": [
        "pipeline = Pipeline(steps=[('vec',vectorize_pipeline), ('model', rf_blob)])"
      ],
      "execution_count": 73,
      "outputs": []
    },
    {
      "cell_type": "code",
      "metadata": {
        "colab": {
          "base_uri": "https://localhost:8080/"
        },
        "id": "-5tL3Xljj22b",
        "outputId": "bb52ae45-0005-485a-89cf-5b24c9d583df"
      },
      "source": [
        "pipeline"
      ],
      "execution_count": 74,
      "outputs": [
        {
          "output_type": "execute_result",
          "data": {
            "text/plain": [
              "Pipeline(memory=None,\n",
              "         steps=[('vec',\n",
              "                 Pipeline(memory=None,\n",
              "                          steps=[('vect',\n",
              "                                  TfidfVectorizer(analyzer='word', binary=False,\n",
              "                                                  decode_error='strict',\n",
              "                                                  dtype=<class 'numpy.float64'>,\n",
              "                                                  encoding='utf-8',\n",
              "                                                  input='content',\n",
              "                                                  lowercase=True, max_df=1.0,\n",
              "                                                  max_features=None, min_df=1,\n",
              "                                                  ngram_range=(1, 1), norm='l2',\n",
              "                                                  preprocessor=None,\n",
              "                                                  smooth_idf=True,\n",
              "                                                  stop_words=None,\n",
              "                                                  strip_accents=None,...\n",
              "                 RandomForestClassifier(bootstrap=True, ccp_alpha=0.0,\n",
              "                                        class_weight=None, criterion='gini',\n",
              "                                        max_depth=None, max_features='auto',\n",
              "                                        max_leaf_nodes=None, max_samples=None,\n",
              "                                        min_impurity_decrease=0.0,\n",
              "                                        min_impurity_split=None,\n",
              "                                        min_samples_leaf=1, min_samples_split=2,\n",
              "                                        min_weight_fraction_leaf=0.0,\n",
              "                                        n_estimators=100, n_jobs=None,\n",
              "                                        oob_score=False, random_state=123,\n",
              "                                        verbose=0, warm_start=False))],\n",
              "         verbose=False)"
            ]
          },
          "metadata": {},
          "execution_count": 74
        }
      ]
    },
    {
      "cell_type": "code",
      "metadata": {
        "colab": {
          "base_uri": "https://localhost:8080/"
        },
        "id": "-K7zepAlj22c",
        "outputId": "e3bbc8d5-413c-44e9-c97e-831febdf58d1"
      },
      "source": [
        "from joblib import dump\n",
        "dump(pipeline, 'Deployment/rf_pipeline.pkl')"
      ],
      "execution_count": 75,
      "outputs": [
        {
          "output_type": "execute_result",
          "data": {
            "text/plain": [
              "['rf_pipeline.pkl']"
            ]
          },
          "metadata": {},
          "execution_count": 75
        }
      ]
    },
    {
      "cell_type": "code",
      "metadata": {
        "id": "o432nGRKvmss"
      },
      "source": [
        ""
      ],
      "execution_count": null,
      "outputs": []
    }
  ]
}